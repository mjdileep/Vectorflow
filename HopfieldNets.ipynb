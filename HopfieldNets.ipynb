{
 "cells": [
  {
   "cell_type": "code",
   "execution_count": 570,
   "id": "a92f675b-58e3-48c3-a3d5-401ca989ed14",
   "metadata": {},
   "outputs": [
    {
     "name": "stdout",
     "output_type": "stream",
     "text": [
      "The autoreload extension is already loaded. To reload it, use:\n",
      "  %reload_ext autoreload\n"
     ]
    }
   ],
   "source": [
    "from vectorflow.classical.hn import HopfieldNetwork\n",
    "import numpy as np\n",
    "%load_ext autoreload\n",
    "%autoreload 2"
   ]
  },
  {
   "cell_type": "code",
   "execution_count": 585,
   "id": "6b2a4803-930c-4d00-a30e-b606eeaf7244",
   "metadata": {},
   "outputs": [
    {
     "name": "stdout",
     "output_type": "stream",
     "text": [
      "Fitting...\n",
      "Ratio: 2.0 Accuracy: 0.65 \n",
      "rs: [0.9, 0.45, 0.65, 0.75, 0.5]\n"
     ]
    }
   ],
   "source": [
    "n=20\n",
    "nn = n*2\n",
    "d = 5\n",
    "\n",
    "# Create net\n",
    "data = np.random.rand(d, n) <0.5\n",
    "hf = HopfieldNetwork(n, nn)\n",
    "print(\"Fitting...\")\n",
    "# fit the net\n",
    "for i in range(10):\n",
    "    hf.fit(data)\n",
    "    \n",
    "# Test\n",
    "p = 2\n",
    "s = []\n",
    "for i in range(d):\n",
    "    rs = hf.retrieve(data[i, 0:int(n/p)])>0.5\n",
    "    s.append(np.sum(rs ==data[i,:])/float(n))\n",
    "print(\"Ratio:\",nn/n, \"Accuracy:\",np.mean(s), \"\\nrs:\", s)"
   ]
  },
  {
   "cell_type": "code",
   "execution_count": null,
   "id": "1a0a5476-a5a7-45df-9895-6400980d3110",
   "metadata": {},
   "outputs": [],
   "source": []
  }
 ],
 "metadata": {
  "kernelspec": {
   "display_name": "Python 3 (ipykernel)",
   "language": "python",
   "name": "python3"
  },
  "language_info": {
   "codemirror_mode": {
    "name": "ipython",
    "version": 3
   },
   "file_extension": ".py",
   "mimetype": "text/x-python",
   "name": "python",
   "nbconvert_exporter": "python",
   "pygments_lexer": "ipython3",
   "version": "3.8.6"
  }
 },
 "nbformat": 4,
 "nbformat_minor": 5
}
