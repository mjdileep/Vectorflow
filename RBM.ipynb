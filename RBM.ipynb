{
 "cells": [
  {
   "cell_type": "code",
   "execution_count": 315,
   "id": "d69f1312-4be8-47f8-a88c-4c27b6bbb79a",
   "metadata": {},
   "outputs": [
    {
     "name": "stdout",
     "output_type": "stream",
     "text": [
      "The autoreload extension is already loaded. To reload it, use:\n",
      "  %reload_ext autoreload\n"
     ]
    }
   ],
   "source": [
    "from vectorflow.classical.rbm import RBM\n",
    "import numpy as np\n",
    "%load_ext autoreload\n",
    "%autoreload 2"
   ]
  },
  {
   "cell_type": "code",
   "execution_count": 332,
   "id": "f7e3a8d8-38fa-412b-b654-d6a9187766a2",
   "metadata": {},
   "outputs": [],
   "source": [
    "h = 15 # Total number of hidden units\n",
    "v = 10 # Total number of Visible units\n",
    "d=3 # number of training data points\n",
    "data = np.random.rand(d, v) <0.5 # Training data \n",
    "\n",
    "rbm = RBM(v,h) # Create RBM with total h hidden units and v visible units\n"
   ]
  },
  {
   "cell_type": "code",
   "execution_count": 333,
   "id": "ffc81b3a-7f93-4c42-835e-58a204e14c3c",
   "metadata": {},
   "outputs": [],
   "source": [
    "rbm.fit(data, epochs=50) # Fit the RBM"
   ]
  },
  {
   "cell_type": "code",
   "execution_count": 334,
   "id": "a71e7ae0-57d2-4abd-a5d8-64cdda950038",
   "metadata": {},
   "outputs": [
    {
     "name": "stdout",
     "output_type": "stream",
     "text": [
      "Accuracy: 100.0 %\n"
     ]
    }
   ],
   "source": [
    "# Testing RBM by sending fraction of data \n",
    "k = 2\n",
    "acc = 0\n",
    "for each in range(d):\n",
    "    s =rbm.retrieve(data[each,:int(v/k)])\n",
    "    #print(\"\\nInput:\",data[each,:int(v/k)])\n",
    "    #print(\"expected:\",data[each])\n",
    "    #print(\"output:\",s)\n",
    "    #print(\"accuracy:\", np.mean(s==data[each]))\n",
    "    acc += np.mean(s==data[each,:])\n",
    "print(\"Accuracy:\", round(acc*100/d), \"%\")"
   ]
  },
  {
   "cell_type": "code",
   "execution_count": null,
   "id": "d0c19a2d-ac09-4fe2-924e-7af8c6cffcf6",
   "metadata": {},
   "outputs": [],
   "source": []
  }
 ],
 "metadata": {
  "kernelspec": {
   "display_name": "Python 3 (ipykernel)",
   "language": "python",
   "name": "python3"
  },
  "language_info": {
   "codemirror_mode": {
    "name": "ipython",
    "version": 3
   },
   "file_extension": ".py",
   "mimetype": "text/x-python",
   "name": "python",
   "nbconvert_exporter": "python",
   "pygments_lexer": "ipython3",
   "version": "3.8.6"
  }
 },
 "nbformat": 4,
 "nbformat_minor": 5
}
