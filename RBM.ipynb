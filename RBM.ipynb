{
 "cells": [
  {
   "cell_type": "code",
   "execution_count": 504,
   "id": "d69f1312-4be8-47f8-a88c-4c27b6bbb79a",
   "metadata": {},
   "outputs": [
    {
     "name": "stdout",
     "output_type": "stream",
     "text": [
      "The autoreload extension is already loaded. To reload it, use:\n",
      "  %reload_ext autoreload\n"
     ]
    }
   ],
   "source": [
    "from vectorflow.classical.rbm import RBM\n",
    "import numpy as np\n",
    "%load_ext autoreload\n",
    "%autoreload 2"
   ]
  },
  {
   "cell_type": "code",
   "execution_count": 518,
   "id": "f7e3a8d8-38fa-412b-b654-d6a9187766a2",
   "metadata": {},
   "outputs": [],
   "source": [
    "h = 20 # Total number of hidden units\n",
    "v = 10 # Total number of Visible units\n",
    "d=20 # number of training data points\n",
    "data = np.random.rand(d, v) <0.5 # Training data \n",
    "\n",
    "rbm = RBM(v,h) # Create RBM with total h hidden units and v visible units\n"
   ]
  },
  {
   "cell_type": "code",
   "execution_count": 519,
   "id": "ffc81b3a-7f93-4c42-835e-58a204e14c3c",
   "metadata": {},
   "outputs": [],
   "source": [
    "rbm.fit(data, epochs=50) # Fit the RBM"
   ]
  },
  {
   "cell_type": "code",
   "execution_count": 520,
   "id": "a71e7ae0-57d2-4abd-a5d8-64cdda950038",
   "metadata": {},
   "outputs": [
    {
     "name": "stdout",
     "output_type": "stream",
     "text": [
      "Accuracy: 100.0 %\n"
     ]
    }
   ],
   "source": [
    "# Testing RBM by sending fraction of data \n",
    "k = 1\n",
    "acc = 0\n",
    "for each in range(d):\n",
    "    s =rbm.retrieve(data[each,:int(v/k)])\n",
    "    #print(\"\\nInput:\",data[each,:int(v/k)])\n",
    "    #print(\"expected:\",data[each])\n",
    "    #print(\"output:\",s)\n",
    "    #print(\"accuracy:\", np.mean(s==data[each]))\n",
    "    acc += np.mean(s==data[each,:])\n",
    "print(\"Accuracy:\", round(acc*100/d), \"%\")"
   ]
  },
  {
   "cell_type": "markdown",
   "id": "873aaf44-9f88-4b00-8ffe-26b683a6ca8e",
   "metadata": {},
   "source": [
    "# MNIST"
   ]
  },
  {
   "cell_type": "code",
   "execution_count": 616,
   "id": "7a935757-322b-41a6-8c9f-241ace6d3500",
   "metadata": {},
   "outputs": [
    {
     "name": "stdout",
     "output_type": "stream",
     "text": [
      "./mnist-original.mat already exists, skipping ...\n"
     ]
    }
   ],
   "source": [
    "import scipy.io\n",
    "from load_data import download\n",
    "download(\"./mnist-original.mat\", \"https://raw.githubusercontent.com/amplab/datascience-sp14/master/lab7/mldata/mnist-original.mat\", False)\n",
    "mat = scipy.io.loadmat('mnist-original.mat')\n",
    "X = mat[\"data\"].T\n",
    "\n",
    "X_train = X.reshape(X.shape[0], 1, 28, 28)[:,:,0::2,0::2].reshape(X.shape[0], -1) > 128\n",
    "randomize = np.arange(X.shape[0])\n",
    "np.random.shuffle(randomize)\n",
    "X_train = X_train[randomize]"
   ]
  },
  {
   "cell_type": "code",
   "execution_count": 625,
   "id": "c0294366-1fe0-456d-852e-29f897dbfff9",
   "metadata": {},
   "outputs": [],
   "source": [
    "h = 100 # Total number of hidden units\n",
    "v = 196 # Total number of Visible units\n",
    "d = 100\n",
    "data = X_train[:d,:]\n",
    "rbm = RBM(v,h) # Create RBM with total h hidden units and v visible units"
   ]
  },
  {
   "cell_type": "code",
   "execution_count": 626,
   "id": "7b92d08f-1eb3-449c-a4c5-57e676f2a403",
   "metadata": {},
   "outputs": [],
   "source": [
    "rbm.fit(data, epochs=10) # Fit the RBM"
   ]
  },
  {
   "cell_type": "code",
   "execution_count": 627,
   "id": "5402865b-fb4d-4873-9aa1-8356b8ea2c32",
   "metadata": {},
   "outputs": [
    {
     "name": "stdout",
     "output_type": "stream",
     "text": [
      "Accuracy: 94.0 %\n"
     ]
    }
   ],
   "source": [
    "# Testing RBM by sending fraction of data \n",
    "k = 1\n",
    "acc = 0\n",
    "rs = []\n",
    "for each in range(d):\n",
    "    s =rbm.retrieve(data[each,:int(v/k)])\n",
    "    rs.append(s)\n",
    "    #print(\"\\nInput:\",data[each,:int(v/k)])\n",
    "    #print(\"expected:\",data[each])\n",
    "    #print(\"output:\",s)\n",
    "    #print(\"accuracy:\", np.mean(s==data[each]))\n",
    "    acc += np.mean(s==data[each,:])\n",
    "print(\"Accuracy:\", round(acc*100/d), \"%\")"
   ]
  },
  {
   "cell_type": "code",
   "execution_count": 630,
   "id": "613c2852-6938-4868-9a79-2568542d4f4d",
   "metadata": {},
   "outputs": [
    {
     "name": "stdout",
     "output_type": "stream",
     "text": [
      "Original:\n"
     ]
    },
    {
     "data": {
      "image/png": "[encoded data removed]",
      "text/plain": [
       "<Figure size 720x576 with 100 Axes>"
      ]
     },
     "metadata": {
      "needs_background": "light"
     },
     "output_type": "display_data"
    },
    {
     "name": "stdout",
     "output_type": "stream",
     "text": [
      "Reconstructed:\n"
     ]
    },
    {
     "data": {
      "image/png": "[encoded data removed]",
      "text/plain": [
       "<Figure size 720x576 with 100 Axes>"
      ]
     },
     "metadata": {
      "needs_background": "light"
     },
     "output_type": "display_data"
    }
   ],
   "source": [
    "import matplotlib.pyplot as plt\n",
    "\n",
    "# This is a bit of magic to make matplotlib figures appear inline in the notebook\n",
    "# rather than in a new window.\n",
    "%matplotlib inline\n",
    "plt.rcParams['figure.figsize'] = (10.0, 8.0) # set default size of plots\n",
    "plt.rcParams['image.interpolation'] = 'nearest'\n",
    "plt.rcParams['image.cmap'] = 'gray'\n",
    "\n",
    "# Original\n",
    "print(\"Original:\")\n",
    "for i in range(d):\n",
    "    im = data[i,:].reshape(14, 14)\n",
    "    plt.subplot(10, 10, i+1)\n",
    "    plt.imshow(im.astype('uint8'))\n",
    "    plt.axis('off')\n",
    "plt.show()\n",
    "print(\"Reconstructed:\")\n",
    "for i in range(d):\n",
    "    im = rs[i].reshape(14, 14)\n",
    "    plt.subplot(10, 10, i+1)\n",
    "    plt.imshow(im.astype('uint8'))\n",
    "    plt.axis('off')\n",
    "\n",
    "plt.show()"
   ]
  },
  {
   "cell_type": "code",
   "execution_count": null,
   "id": "ec5b185a-fa5e-4bb3-ab08-7bba19453a59",
   "metadata": {},
   "outputs": [],
   "source": []
  }
 ],
 "metadata": {
  "kernelspec": {
   "display_name": "Python 3 (ipykernel)",
   "language": "python",
   "name": "python3"
  },
  "language_info": {
   "codemirror_mode": {
    "name": "ipython",
    "version": 3
   },
   "file_extension": ".py",
   "mimetype": "text/x-python",
   "name": "python",
   "nbconvert_exporter": "python",
   "pygments_lexer": "ipython3",
   "version": "3.8.6"
  }
 },
 "nbformat": 4,
 "nbformat_minor": 5
}
