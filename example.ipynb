{
 "cells": [
  {
   "cell_type": "markdown",
   "id": "4e4fe8f8-aca4-4ea5-9e19-921ce28c2e67",
   "metadata": {},
   "source": [
    "# Vectorflow\n",
    "A simple light-weight neural network library developed using only numpy vectors.\n"
   ]
  },
  {
   "cell_type": "code",
   "execution_count": null,
   "id": "5922632e-e6b1-429c-921b-f351703870fc",
   "metadata": {},
   "outputs": [],
   "source": [
    "import numpy as np\n",
    "from vectorflow.layers import *\n",
    "from vectorflow import solver\n",
    "import scipy.io\n",
    "from load_data import download\n",
    "%load_ext autoreload\n",
    "%autoreload 2"
   ]
  },
  {
   "cell_type": "code",
   "execution_count": null,
   "id": "8da92942-fa1a-462f-a08e-bfb56991edfa",
   "metadata": {},
   "outputs": [],
   "source": [
    "# Load the MNIST dataset\n",
    "download(\"./mnist-original.mat\", \"https://raw.githubusercontent.com/amplab/datascience-sp14/master/lab7/mldata/mnist-original.mat\", False)\n",
    "mat = scipy.io.loadmat('mnist-original.mat')\n",
    "X = mat[\"data\"].T\n",
    "y_train = mat[\"label\"].T.reshape(X.shape[0],).astype(int)\n",
    "X_train = X.reshape(X.shape[0], 1, 28, 28)\n",
    "randomize = np.arange(X.shape[0])\n",
    "np.random.shuffle(randomize)\n",
    "X_train = X_train[randomize]\n",
    "y_train = y_train[randomize]"
   ]
  },
  {
   "cell_type": "code",
   "execution_count": null,
   "id": "59e107f7-d5e2-451e-90a4-39c4f781a625",
   "metadata": {},
   "outputs": [],
   "source": [
    "model = Stack(\n",
    "    Conv2d(1, 16, 5, 2, 2),\n",
    "    MaxPooling(4, 4, 1),\n",
    "    Conv2d(16, 64, 3, 1, 2),\n",
    "    MaxPooling(3, 3, 1),\n",
    "    Flatten(),\n",
    "    Dropout(0.5),\n",
    "    Linear(1024, 1024),\n",
    "    ReLU(),\n",
    "    Batchnorm(1024),\n",
    "    Dropout(0.5), \n",
    "    Linear(1024, 10)\n",
    "    \n",
    ")\n",
    "    \n",
    "s = solver.Solver(model=model, opt_fn=\"adam\", loss_fn=\"softmax\", train_split = 0.9, batch_size=256, lr=0.005, lr_decay = 0.8)\n",
    "s.train(X_train[:10000,], y_train[:10000,], epochs=100)"
   ]
  }
 ],
 "metadata": {
  "kernelspec": {
   "display_name": "Python 3 (ipykernel)",
   "language": "python",
   "name": "python3"
  },
  "language_info": {
   "codemirror_mode": {
    "name": "ipython",
    "version": 3
   },
   "file_extension": ".py",
   "mimetype": "text/x-python",
   "name": "python",
   "nbconvert_exporter": "python",
   "pygments_lexer": "ipython3",
   "version": "3.8.6"
  }
 },
 "nbformat": 4,
 "nbformat_minor": 5
}
