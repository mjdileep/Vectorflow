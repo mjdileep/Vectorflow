{
 "cells": [
  {
   "cell_type": "markdown",
   "id": "4e4fe8f8-aca4-4ea5-9e19-921ce28c2e67",
   "metadata": {},
   "source": [
    "# Vectorflow\n",
    "A simple light-weight neural network library developed using only numpy vectors.\n"
   ]
  },
  {
   "cell_type": "code",
   "execution_count": 248,
   "id": "5922632e-e6b1-429c-921b-f351703870fc",
   "metadata": {},
   "outputs": [
    {
     "name": "stdout",
     "output_type": "stream",
     "text": [
      "The autoreload extension is already loaded. To reload it, use:\n",
      "  %reload_ext autoreload\n"
     ]
    }
   ],
   "source": [
    "import numpy as np\n",
    "from vectorflow.layers import *\n",
    "import solver\n",
    "import scipy.io\n",
    "from load_data import download\n",
    "%load_ext autoreload\n",
    "%autoreload 2"
   ]
  },
  {
   "cell_type": "code",
   "execution_count": 249,
   "id": "8da92942-fa1a-462f-a08e-bfb56991edfa",
   "metadata": {},
   "outputs": [
    {
     "name": "stdout",
     "output_type": "stream",
     "text": [
      "./mnist-original.mat already exists, skipping ...\n"
     ]
    }
   ],
   "source": [
    "# Load the MNIST dataset\n",
    "download(\"./mnist-original.mat\", \"https://raw.githubusercontent.com/amplab/datascience-sp14/master/lab7/mldata/mnist-original.mat\", False)\n",
    "mat = scipy.io.loadmat('mnist-original.mat')\n",
    "X = mat[\"data\"].T\n",
    "y_train = mat[\"label\"].T.reshape(X.shape[0],).astype(int)\n",
    "X_train = X.reshape(X.shape[0], 1, 28, 28)\n",
    "randomize = np.arange(X.shape[0])\n",
    "np.random.shuffle(randomize)\n",
    "X_train = X_train[randomize]\n",
    "y_train = y_train[randomize]"
   ]
  },
  {
   "cell_type": "code",
   "execution_count": null,
   "id": "59e107f7-d5e2-451e-90a4-39c4f781a625",
   "metadata": {},
   "outputs": [
    {
     "name": "stdout",
     "output_type": "stream",
     "text": [
      "Epoch:0, Training Loss:2.3155406027489933. Validation Loss:2.310948331249551\n"
     ]
    },
    {
     "ename": "KeyboardInterrupt",
     "evalue": "",
     "output_type": "error",
     "traceback": [
      "\u001b[0;31m---------------------------------------------------------------------------\u001b[0m",
      "\u001b[0;31mKeyboardInterrupt\u001b[0m                         Traceback (most recent call last)",
      "Cell \u001b[0;32mIn[250], line 17\u001b[0m\n\u001b[1;32m      1\u001b[0m model \u001b[38;5;241m=\u001b[39m Stack(\n\u001b[1;32m      2\u001b[0m     Conv2d(\u001b[38;5;241m1\u001b[39m, \u001b[38;5;241m16\u001b[39m, \u001b[38;5;241m5\u001b[39m, \u001b[38;5;241m2\u001b[39m, \u001b[38;5;241m2\u001b[39m),\n\u001b[1;32m      3\u001b[0m     MaxPooling(\u001b[38;5;241m4\u001b[39m, \u001b[38;5;241m4\u001b[39m, \u001b[38;5;241m1\u001b[39m),\n\u001b[0;32m   (...)\u001b[0m\n\u001b[1;32m     13\u001b[0m     \n\u001b[1;32m     14\u001b[0m )\n\u001b[1;32m     16\u001b[0m s \u001b[38;5;241m=\u001b[39m solver\u001b[38;5;241m.\u001b[39mSolver(model\u001b[38;5;241m=\u001b[39mmodel, opt_fn\u001b[38;5;241m=\u001b[39m\u001b[38;5;124m\"\u001b[39m\u001b[38;5;124madam\u001b[39m\u001b[38;5;124m\"\u001b[39m, loss_fn\u001b[38;5;241m=\u001b[39m\u001b[38;5;124m\"\u001b[39m\u001b[38;5;124msoftmax\u001b[39m\u001b[38;5;124m\"\u001b[39m, train_split \u001b[38;5;241m=\u001b[39m \u001b[38;5;241m0.9\u001b[39m, batch_size\u001b[38;5;241m=\u001b[39m\u001b[38;5;241m256\u001b[39m, lr\u001b[38;5;241m=\u001b[39m\u001b[38;5;241m0.005\u001b[39m, lr_decay \u001b[38;5;241m=\u001b[39m \u001b[38;5;241m0.8\u001b[39m)\n\u001b[0;32m---> 17\u001b[0m \u001b[43ms\u001b[49m\u001b[38;5;241;43m.\u001b[39;49m\u001b[43mtrain\u001b[49m\u001b[43m(\u001b[49m\u001b[43mX_train\u001b[49m\u001b[43m[\u001b[49m\u001b[43m:\u001b[49m\u001b[38;5;241;43m100\u001b[39;49m\u001b[43m,\u001b[49m\u001b[43m]\u001b[49m\u001b[43m,\u001b[49m\u001b[43m \u001b[49m\u001b[43my_train\u001b[49m\u001b[43m[\u001b[49m\u001b[43m:\u001b[49m\u001b[38;5;241;43m100\u001b[39;49m\u001b[43m,\u001b[49m\u001b[43m]\u001b[49m\u001b[43m,\u001b[49m\u001b[43m \u001b[49m\u001b[43mepochs\u001b[49m\u001b[38;5;241;43m=\u001b[39;49m\u001b[38;5;241;43m100\u001b[39;49m\u001b[43m)\u001b[49m\n",
      "File \u001b[0;32m~/Documents/notebooks/From The Scratch/solver.py:35\u001b[0m, in \u001b[0;36mSolver.train\u001b[0;34m(self, X_train, y_train, epochs)\u001b[0m\n\u001b[1;32m     33\u001b[0m pred \u001b[38;5;241m=\u001b[39m \u001b[38;5;28mself\u001b[39m\u001b[38;5;241m.\u001b[39mmodel(x_mini, train\u001b[38;5;241m=\u001b[39m\u001b[38;5;28;01mTrue\u001b[39;00m)\n\u001b[1;32m     34\u001b[0m loss, dx \u001b[38;5;241m=\u001b[39m \u001b[38;5;28mself\u001b[39m\u001b[38;5;241m.\u001b[39mloss_fn(pred, y_mini, \u001b[38;5;124m\"\u001b[39m\u001b[38;5;124mtrain\u001b[39m\u001b[38;5;124m\"\u001b[39m)\n\u001b[0;32m---> 35\u001b[0m \u001b[38;5;28;43mself\u001b[39;49m\u001b[38;5;241;43m.\u001b[39;49m\u001b[43mmodel\u001b[49m\u001b[38;5;241;43m.\u001b[39;49m\u001b[43mbackward\u001b[49m\u001b[43m(\u001b[49m\u001b[43mdx\u001b[49m\u001b[43m)\u001b[49m\n\u001b[1;32m     36\u001b[0m \u001b[38;5;28mself\u001b[39m\u001b[38;5;241m.\u001b[39mmodel\u001b[38;5;241m.\u001b[39mstep(\u001b[38;5;28mself\u001b[39m\u001b[38;5;241m.\u001b[39mopt_fn, \u001b[38;5;28mself\u001b[39m\u001b[38;5;241m.\u001b[39mlr)\n\u001b[1;32m     37\u001b[0m \u001b[38;5;28mself\u001b[39m\u001b[38;5;241m.\u001b[39mmodel\u001b[38;5;241m.\u001b[39mgrad_zero()\n",
      "File \u001b[0;32m~/Documents/notebooks/From The Scratch/vectorflow/layers.py:639\u001b[0m, in \u001b[0;36mStack.backward\u001b[0;34m(self, dout)\u001b[0m\n\u001b[1;32m    637\u001b[0m \u001b[38;5;28;01mdef\u001b[39;00m \u001b[38;5;21mbackward\u001b[39m(\u001b[38;5;28mself\u001b[39m, dout):\n\u001b[1;32m    638\u001b[0m     \u001b[38;5;28;01mfor\u001b[39;00m layer \u001b[38;5;129;01min\u001b[39;00m \u001b[38;5;28mreversed\u001b[39m(\u001b[38;5;28mself\u001b[39m\u001b[38;5;241m.\u001b[39mlayers):\n\u001b[0;32m--> 639\u001b[0m         dout \u001b[38;5;241m=\u001b[39m \u001b[43mlayer\u001b[49m\u001b[38;5;241;43m.\u001b[39;49m\u001b[43mbackward\u001b[49m\u001b[43m(\u001b[49m\u001b[43mdout\u001b[49m\u001b[43m)\u001b[49m\n\u001b[1;32m    640\u001b[0m     \u001b[38;5;28;01mreturn\u001b[39;00m dout\n",
      "File \u001b[0;32m~/Documents/notebooks/From The Scratch/vectorflow/layers.py:426\u001b[0m, in \u001b[0;36mConv2d.backward\u001b[0;34m(self, dout)\u001b[0m\n\u001b[1;32m    424\u001b[0m             \u001b[38;5;28;01mfor\u001b[39;00m j \u001b[38;5;129;01min\u001b[39;00m \u001b[38;5;28mrange\u001b[39m(H):\n\u001b[1;32m    425\u001b[0m                 dw[f,:,:,:] \u001b[38;5;241m+\u001b[39m\u001b[38;5;241m=\u001b[39m dout[n,f,i,j] \u001b[38;5;241m*\u001b[39m padded[n,:, i\u001b[38;5;241m*\u001b[39mstride:i\u001b[38;5;241m*\u001b[39mstride\u001b[38;5;241m+\u001b[39mk, j\u001b[38;5;241m*\u001b[39mstride:j\u001b[38;5;241m*\u001b[39mstride\u001b[38;5;241m+\u001b[39mk]\n\u001b[0;32m--> 426\u001b[0m                 dx[n,:,i\u001b[38;5;241m*\u001b[39mstride:i\u001b[38;5;241m*\u001b[39mstride\u001b[38;5;241m+\u001b[39mk, j\u001b[38;5;241m*\u001b[39mstride:j\u001b[38;5;241m*\u001b[39mstride\u001b[38;5;241m+\u001b[39mk] \u001b[38;5;241m+\u001b[39m\u001b[38;5;241m=\u001b[39m \u001b[43mdout\u001b[49m\u001b[43m[\u001b[49m\u001b[43mn\u001b[49m\u001b[43m,\u001b[49m\u001b[43mf\u001b[49m\u001b[43m,\u001b[49m\u001b[43mi\u001b[49m\u001b[43m,\u001b[49m\u001b[43mj\u001b[49m\u001b[43m]\u001b[49m\u001b[43m \u001b[49m\u001b[38;5;241;43m*\u001b[39;49m\u001b[43m \u001b[49m\u001b[43mw\u001b[49m\u001b[43m[\u001b[49m\u001b[43mf\u001b[49m\u001b[43m,\u001b[49m\u001b[43m:\u001b[49m\u001b[43m,\u001b[49m\u001b[43m:\u001b[49m\u001b[43m,\u001b[49m\u001b[43m:\u001b[49m\u001b[43m]\u001b[49m\n\u001b[1;32m    428\u001b[0m dx \u001b[38;5;241m=\u001b[39m dx[:,:,pad:\u001b[38;5;241m-\u001b[39mpad, pad:\u001b[38;5;241m-\u001b[39mpad]\n\u001b[1;32m    429\u001b[0m db \u001b[38;5;241m=\u001b[39m np\u001b[38;5;241m.\u001b[39msum(dout, axis\u001b[38;5;241m=\u001b[39m(\u001b[38;5;241m0\u001b[39m,\u001b[38;5;241m2\u001b[39m,\u001b[38;5;241m3\u001b[39m))\n",
      "\u001b[0;31mKeyboardInterrupt\u001b[0m: "
     ]
    }
   ],
   "source": [
    "model = Stack(\n",
    "    Conv2d(1, 16, 5, 2, 2),\n",
    "    MaxPooling(4, 4, 1),\n",
    "    Conv2d(16, 64, 3, 1, 2),\n",
    "    MaxPooling(3, 3, 1),\n",
    "    Flatten(),\n",
    "    Dropout(0.5),\n",
    "    Linear(1024, 1024),\n",
    "    ReLU(),\n",
    "    Batchnorm(1024),\n",
    "    Dropout(0.5), \n",
    "    Linear(1024, 10)\n",
    "    \n",
    ")\n",
    "    \n",
    "s = solver.Solver(model=model, opt_fn=\"adam\", loss_fn=\"softmax\", train_split = 0.9, batch_size=256, lr=0.005, lr_decay = 0.8)\n",
    "s.train(X_train[:10000,], y_train[:10000,], epochs=100)"
   ]
  },
  {
   "cell_type": "code",
   "execution_count": null,
   "id": "efab62ec-1669-460f-a0bc-1b92d8b1179b",
   "metadata": {},
   "outputs": [],
   "source": []
  }
 ],
 "metadata": {
  "kernelspec": {
   "display_name": "Python 3 (ipykernel)",
   "language": "python",
   "name": "python3"
  },
  "language_info": {
   "codemirror_mode": {
    "name": "ipython",
    "version": 3
   },
   "file_extension": ".py",
   "mimetype": "text/x-python",
   "name": "python",
   "nbconvert_exporter": "python",
   "pygments_lexer": "ipython3",
   "version": "3.8.6"
  }
 },
 "nbformat": 4,
 "nbformat_minor": 5
}
